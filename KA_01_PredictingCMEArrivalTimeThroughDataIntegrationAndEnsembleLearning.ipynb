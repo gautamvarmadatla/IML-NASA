{
 "cells": [
  {
   "cell_type": "markdown",
   "metadata": {},
   "source": [
    "# **Predicting CME Arrival Time Through Data Integration And Ensemble Learning**"
   ]
  },
  {
   "cell_type": "markdown",
   "metadata": {
    "toc": true
   },
   "source": [
    "<h1><b>Table of Contents</b><span class=\"tocSkip\"></span> </h1>\n",
    "<div class=\"toc\">\n",
    "<!--     <ul class=\"toc-item\"> -->\n",
    "        <li><span><a href=\"#Template-Notebook-for-EarthCube---Long-Version\"\n",
    "                    data-toc-modified-id=\"Template-Notebook-for-EarthCube---Long-Version-1\"><span\n",
    "                        class=\"toc-item-num\">1&nbsp;&nbsp;</span>KA_01_PredictingCMEArrivalTimeThroughDataIntegrationAndEnsembleLearning</a></span>\n",
    "            <ul class=\"toc-item\" style='margin-top:0px; margin-bottom:0px'>\n",
    "                <li><span><a href=\"#Author(s)\" data-toc-modified-id=\"Author(s)-1.1\"><span\n",
    "                                class=\"toc-item-num\">1.1&nbsp;&nbsp;</span>Author(s)</a></span></li>\n",
    "                <li><span><a href=\"#Purpose\" data-toc-modified-id=\"Purpose-1.2\"><span\n",
    "                                class=\"toc-item-num\">1.2&nbsp;&nbsp;</span>Purpose</a></span></li>\n",
    "                <li><span><a href=\"#Methodology\" data-toc-modified-id=\"Methodology-1.3\"><span\n",
    "                                class=\"toc-item-num\">1.4&nbsp;&nbsp;</span>Methodology</a></span></li>\n",
    "                <li><span><a href=\"#Funding\" data-toc-modified-id=\"Funding-1.4\"><span\n",
    "                                class=\"toc-item-num\">1.5&nbsp;&nbsp;</span>Funding</a></span></li>\n",
    "                <li><span><a href=\"#Keywords\" data-toc-modified-id=\"Keywords-1.5\"><span\n",
    "                                class=\"toc-item-num\">1.6&nbsp;&nbsp;</span>Keywords</a></span></li>\n",
    "                <li><span><a href=\"#Citation\" data-toc-modified-id=\"Citation-1.6\"><span\n",
    "                                class=\"toc-item-num\">1.7&nbsp;&nbsp;</span>Citation</a></span></li>\n",
    "                <li><span style='display:inline'><a href=\"#Acknowledgements\" data-toc-modified-id=\"Acknowledgements-1.7\"><span\n",
    "                        class=\"toc-item-num\">1.8&nbsp;&nbsp;</span>Acknowledgements</a></span></li>                \n",
    "            </ul>\n",
    "        </li>\n",
    "<!--     </ul> -->\n",
    "    <li><span><a href=\"#Setup\" data-toc-modified-id=\"Setup-2\"><span\n",
    "                    class=\"toc-item-num\">2&nbsp;&nbsp;</span>Setup</a></span>\n",
    "    </li>\n",
    "<!--     </ul> -->\n",
    "    <li><span><a href=\"#Data-Processing-and-Analysis\" data-toc-modified-id=\"Data-Processing-and-Analysis-3\"><span\n",
    "                    class=\"toc-item-num\">3&nbsp;&nbsp;</span>Data Processing and Analysis</a></span></li>\n",
    "<!--     </ul> -->\n",
    "    <li><span><a href=\"#Binder\" data-toc-modified-id=\"Binder-4\"><span\n",
    "                    class=\"toc-item-num\">4&nbsp;&nbsp;</span>Binder</a></span></li>\n",
    "<!--     </ul> -->\n",
    "    <li><span><a href=\"#Plotting-the-Pretrained-Models-Results\" data-toc-modified-id=\"Plotting-the-Pretrained-Models-Results-5\"><span\n",
    "                    class=\"toc-item-num\">5&nbsp;&nbsp;</span>Plotting the Pretrained Models Results\n",
    "</a></span></li>\n",
    "<!--     </ul> -->    \n",
    "    <li><span><a href=\"#CMETNet-Training-and-Testing\" data-toc-modified-id=\"CMETNet-Training-and-Testing-6\"><span\n",
    "                    class=\"toc-item-num\">6&nbsp;&nbsp;</span>CMETNet Training and Testing</a></span>\n",
    "        <ul class=\"toc-item\" style='margin-top:0px;margin-bottom:0px'>\n",
    "            <li>\n",
    "                <span><a href=\"#CNN-Model-Training-and-Testing\"\n",
    "                        data-toc-modified-id=\"CNN-Model-Training-and-Testing-5.1\"><span\n",
    "                            class=\"toc-item-num\">6.1&nbsp;&nbsp;</span>CNN Model Training and Testing</a></span>\n",
    "            </li>\n",
    "            <li>\n",
    "                <span><a href=\"#COMB-Model-Training-and-Testing\"\n",
    "                        data-toc-modified-id=\"COMB-Model-Training-and-Testing-5.2\"><span\n",
    "                            class=\"toc-item-num\">6.2&nbsp;&nbsp;</span>COMB Model Training and Testing</a></span>\n",
    "            </li>            \n",
    "            <li>\n",
    "                <span><a href=\"#Testing-the-Ensemble-Learning-method\"\n",
    "                        data-toc-modified-id=\"Testing-the-Ensemble-Learning-method-5.3\"><span\n",
    "                            class=\"toc-item-num\">6.3&nbsp;&nbsp;</span>Testing the Ensemble Learning method</a></span>\n",
    "\n",
    "                      \n",
    "\n",
    "<!--     </ul> -->\n",
    "</div>            \n",
    "        </ul>\n",
    "    </li>\n",
    "    <li><span><a href=\"#Conclusions\" data-toc-modified-id=\"Conclusions-7\"><span\n",
    "                    class=\"toc-item-num\">7&nbsp;&nbsp;</span>Conclusions</a></span>\n",
    "    </li>\n",
    "    <li><span><a href=\"#CMETNet-paper\" data-toc-modified-id=\"CMETNet-paper-8\"><span\n",
    "                    class=\"toc-item-num\">8&nbsp;&nbsp;</span>CMETNet paper</a></span>\n",
    "    </li>    \n",
    "    </ul>\n",
    "</div>"
   ]
  },
  {
   "cell_type": "markdown",
   "metadata": {},
   "source": [
    "### **Author(s)**\n",
    "- Author1 = {\"name\": \"Khalid A. Alobaid\", \"affiliation\": \"Department of Computer Science, New Jersey Institute of Technology\", \"email\": \"kaa65@njit.edu\"}\n",
    "- Author2 = {\"name\": \"Yasser Abduallah\", \"affiliation\": \"Department of Computer Science, New Jersey Institute of Technology\", \"email\": \"ya54@njit.edu\", \"orcid\": \"https://orcid.org/0000-0003-0792-2270\"}\n",
    "- Author3 = {\"name\": \"Jason T. L. Wang\", \"affiliation\": \"Department of Computer Science, New Jersey Institute of Technology\", \"email\": \"wangj@njit.edu\", \"orcid\": \"https://orcid.org/0000-0002-2486-1097\"}\n",
    "- Author4 = {\"name\": \"Haimin Wang\", \"affiliation\": \"Institute for Space Weather Sciences, New Jersey Institute of Technology\", \"email\": \"haimin.wang@njit.edu\", \"orcid\": \"https://orcid.org/0000-0002-5233-565X\"}"
   ]
  },
  {
   "cell_type": "markdown",
   "metadata": {},
   "source": [
    "### **Purpose**\n",
    "The Sun constantly releases radiation and plasma into the heliosphere. Sporadically, the\n",
    "Sun launches solar eruptions such as flares and coronal mass ejections (CMEs). CMEs carry\n",
    "away a huge amount of mass and magnetic flux with them. An Earth-directed CME can cause\n",
    "serious consequences to the human system. It can destroy power grids/pipelines, satellites, and\n",
    "communications. Therefore, accurately monitoring and predicting CMEs is important to minimize\n",
    "damages to the human system. In this study we propose an ensemble learning approach, named\n",
    "CMETNet, for predicting the arrival time of CMEs from the Sun to the Earth.\n",
    "\n",
    "In this notebook we provide an overview of the CMETNet system to demonstrate how to predict the arrival time of CMEs using machine learning (ML) and data include CME features, solar wind parameters and CME images obtained from the SOHO/LASCO C2 coronagraph.\n",
    "\n",
    "\n",
    "### **Methodology**\n",
    "Our ensemble learning framework, named CMETNet and illustrated in Figure 1, comprises five base\n",
    "learners: (i) a support vector regression (SVR) algorithm , (ii) a random forest\n",
    "(RF) algorithm , (iii) a Gaussian process (GP) algorithm , (iv) an\n",
    "XGBoost (XGB) algorithm , and (v) a convolutional neural network (CNN) illustrated in Figure 2. The first four learners are regression algorithms used for analyzing the numeral/tabular\n",
    "data related to the CME features and solar wind parameters considered in the study. These four regression\n",
    "algorithms are commonly used in heliophysics and space weather research. The fifth learner is a CNN model\n",
    "used for CME image processing. More detials can be found in the paper.\n",
    "\n",
    "<img src='figures/CMETNet_architecture.jpg' width=\"700\" />\n",
    "<center>\n",
    "    (Figure 1)\n",
    " </center>\n",
    "<img src='figures/CNN_architecture.jpg' width=\"700\" />\n",
    "<center>\n",
    "    (Figure 2)\n",
    " </center>\n",
    " <br>\n",
    "\n",
    "\n",
    "### **Funding**\n",
    "This work was supported by U.S. NSF grants AGS-1927578, AGS-1954737 and AGS-2149748.key\n",
    "\n",
    "### **Keywords**\n",
    "keywords=[\"heliophysics\", \"space weather\", \"coronal mass ejections\", \"interplanetary shocks\", \"machine learning\"]\n",
    "\n",
    "\n",
    "### **Citation**\n",
    "To cite this notebook: Khalid A. Alobaid, Yasser Abduallah, Jason T. L. Wang, & Haimin Wang. Predicting CME Arrival Time through Data Integration and Ensemble Learning, available at: <a href='https://github.com/ccsc-tools/CMETNet/blob/main/KA_01_PredictingCMEArrivalTimeThroughDataIntegrationAndEnsembleLearning.ipynb' target='new'>https://github.com/ccsc-tools/CMETNet/blob/main/KA_01_PredictingCMEArrivalTimeThroughDataIntegrationAndEnsembleLearning.ipynb</a>.\n",
    "\n",
    "\n",
    "### **Acknowledgements** \n",
    "The solar wind data is provided by NASA’s Goddard Space Physics Data Facility. The SOHO LASCO CME Catalog is created and maintained by NASA’s CDAW Data Center and the Catholic University of America in cooperation with the Naval Research Laboratory. SOHO is a project of international cooperation between ESA and NASA.\n"
   ]
  },
  {
   "cell_type": "markdown",
   "metadata": {},
   "source": [
    "# **Setup**\n",
    "\n",
    "**Installation on Local Machine**<br>\n",
    "To install the required packages, you may use Python package manager \"pip\" as follow:\n",
    "1.\tCopy the text file \"requirements.txt\" into the working directory.\n",
    "2.\tExecute the command: \n",
    "\n",
    "Type:\n",
    "\n",
    "\tpip install -r requirements.txt\n",
    "\n",
    "Note: There is a requirements file already created for you to use that includes all packages with their versions. The files are located in the root directory of the CMETNet.\n",
    "Note: Python packages and libraries are sensitive to versions. Please make sure you are using the correct packages and libraries versions as specified above.\n",
    "\n",
    "Cuda Installation Package:\n",
    "You may download and install Cuda v 10.1 from https://developer.nvidia.com/cuda-10.1-download-archive-base"
   ]
  },
  {
   "cell_type": "markdown",
   "metadata": {},
   "source": [
    "# **Data Processing and Analysis**\n",
    "We stored 351 LASCO C2 FITS data samples in the data folder of this repo. The \"ICMEs_C2_fits_list.csv\" file represnt a list of the LASCO C2 FITS images along with the transit time which is the label. The transit time\n",
    "is in hours. These labeled images are used to train/test the CNN model. For the other models in CMETNet, \"ICME_list.csv\" file represnt the CME events concidered in this study along with the CME and SW parameters. These events are used to train/test the COMB model (SVR, RF, GP, XGP) of CMETNet.\n",
    "\n",
    "For this notebook, we use sample data sets for training and testing."
   ]
  },
  {
   "cell_type": "markdown",
   "metadata": {},
   "source": [
    "# **Binder**\n",
    "\n",
    "This notebook is Binder enabled and can be run on <a target='new' href='https://mybinder.org/'>mybinder.org</a> by using the image link below:\n",
    "\n",
    "<p float=\"left\"> <a href='https://mybinder.org/v2/gh/ccsc-tools/CMETNet/HEAD?labpath=KA_01_PredictingCMEArrivalTimeThroughDataIntegrationAndEnsembleLearning.ipynb' target='new'><img align=\"left\" src='https://mybinder.org/badge_logo.svg'></img></a></p>\n",
    "\n",
    "<br><br>\n",
    "Please note that starting Binder might take some time to create and start the image.\n",
    "\n",
    "Please also note that the execution time in Binder varies based on the availability of resources. The average time to run the notebook is 10-15 minutes, but it could be more.\n"
   ]
  },
  {
   "cell_type": "markdown",
   "metadata": {},
   "source": [
    "# **Plotting the Pretrained Models Results**\n",
    "The prediction result can be plotted as shown in the following example. The result shows the performance metrics: PPMCC and MAE for each model."
   ]
  },
  {
   "cell_type": "code",
   "execution_count": 1,
   "metadata": {},
   "outputs": [
    {
     "name": "stdout",
     "output_type": "stream",
     "text": [
      "Packages imported\n",
      "Changing working directory to CMETNet_Package.\n"
     ]
    },
    {
     "data": {
      "image/png": "[encoded data removed]",
      "text/plain": [
       "<Figure size 800x300 with 1 Axes>"
      ]
     },
     "metadata": {},
     "output_type": "display_data"
    },
    {
     "data": {
      "image/png": "[encoded data removed]",
      "text/plain": [
       "<Figure size 800x300 with 1 Axes>"
      ]
     },
     "metadata": {},
     "output_type": "display_data"
    }
   ],
   "source": [
    "import warnings\n",
    "warnings.filterwarnings('ignore')\n",
    "\n",
    "import os\n",
    "print('Packages imported')\n",
    "#make sure the scripts are executed in the correct pacakage location.\n",
    "if os.path.exists('CMETNet_Package'):\n",
    "    print('Changing working directory to CMETNet_Package.')\n",
    "    os.chdir('CMETNet_Package')\n",
    "import sys\n",
    "sys.path.append('.') \n",
    "\n",
    "from pretrained_models_results import plot_results\n",
    "#Plotting the results\n",
    "plot_results()"
   ]
  },
  {
   "cell_type": "markdown",
   "metadata": {},
   "source": [
    "# **CMETNet Training and Testing**\n"
   ]
  },
  {
   "cell_type": "markdown",
   "metadata": {},
   "source": [
    "### **CNN Model Training and Testing**\n",
    "You may train the model with your own data or train the model with the default data.\n",
    "\n",
    "Here, we show how to train the CMETNet model with default data.\n",
    "To train the model with your own data:\n",
    "1. You should first upload your file to the data directory (in the left hand side file list).\n",
    "2. Edit the \"ICMEs_C2_fits_list.csv\" file in the data directory by adding the C2 FITS images file name and the transit time."
   ]
  },
  {
   "cell_type": "code",
   "execution_count": 2,
   "metadata": {
    "scrolled": false
   },
   "outputs": [
    {
     "name": "stdout",
     "output_type": "stream",
     "text": [
      "Running the CMETNet_CNN_train.py file...\n",
      "Starting with data preparation, then training the CNN model of CMETNet\n",
      "Model: \"model\"\n",
      "_________________________________________________________________\n",
      "Layer (type)                 Output Shape              Param #   \n",
      "=================================================================\n",
      "input_1 (InputLayer)         [(None, 256, 256, 1)]     0         \n",
      "_________________________________________________________________\n",
      "conv2d (Conv2D)              (None, 256, 256, 64)      7808      \n",
      "_________________________________________________________________\n",
      "leaky_re_lu (LeakyReLU)      (None, 256, 256, 64)      0         \n",
      "_________________________________________________________________\n",
      "conv2d_1 (Conv2D)            (None, 128, 128, 64)      495680    \n",
      "_________________________________________________________________\n",
      "batch_normalization (BatchNo (None, 128, 128, 64)      256       \n",
      "_________________________________________________________________\n",
      "leaky_re_lu_1 (LeakyReLU)    (None, 128, 128, 64)      0         \n",
      "_________________________________________________________________\n",
      "conv2d_2 (Conv2D)            (None, 128, 128, 128)     991360    \n",
      "_________________________________________________________________\n",
      "batch_normalization_1 (Batch (None, 128, 128, 128)     512       \n",
      "_________________________________________________________________\n",
      "leaky_re_lu_2 (LeakyReLU)    (None, 128, 128, 128)     0         \n",
      "_________________________________________________________________\n",
      "conv2d_3 (Conv2D)            (None, 64, 64, 128)       1982592   \n",
      "_________________________________________________________________\n",
      "batch_normalization_2 (Batch (None, 64, 64, 128)       512       \n",
      "_________________________________________________________________\n",
      "leaky_re_lu_3 (LeakyReLU)    (None, 64, 64, 128)       0         \n",
      "_________________________________________________________________\n",
      "conv2d_4 (Conv2D)            (None, 64, 64, 256)       3965184   \n",
      "_________________________________________________________________\n",
      "batch_normalization_3 (Batch (None, 64, 64, 256)       1024      \n",
      "_________________________________________________________________\n",
      "leaky_re_lu_4 (LeakyReLU)    (None, 64, 64, 256)       0         \n",
      "_________________________________________________________________\n",
      "conv2d_5 (Conv2D)            (None, 32, 32, 256)       7930112   \n",
      "_________________________________________________________________\n",
      "batch_normalization_4 (Batch (None, 32, 32, 256)       1024      \n",
      "_________________________________________________________________\n",
      "leaky_re_lu_5 (LeakyReLU)    (None, 32, 32, 256)       0         \n",
      "_________________________________________________________________\n",
      "flatten (Flatten)            (None, 262144)            0         \n",
      "_________________________________________________________________\n",
      "dense (Dense)                (None, 1024)              268436480 \n",
      "_________________________________________________________________\n",
      "dense_1 (Dense)              (None, 1)                 1025      \n",
      "_________________________________________________________________\n",
      "activation (Activation)      (None, 1)                 0         \n",
      "=================================================================\n",
      "Total params: 283,813,569\n",
      "Trainable params: 283,811,905\n",
      "Non-trainable params: 1,664\n",
      "_________________________________________________________________\n",
      "Epoch 1/10\n",
      "4/4 [==============================] - 22s 4s/step - loss: 717.4255 - val_loss: 4469.6562\n",
      "Epoch 2/10\n",
      "4/4 [==============================] - 2s 498ms/step - loss: 298.8066 - val_loss: 843.5709\n",
      "Epoch 3/10\n",
      "4/4 [==============================] - 2s 501ms/step - loss: 179.0923 - val_loss: 601.6638\n",
      "Epoch 4/10\n",
      "4/4 [==============================] - 2s 497ms/step - loss: 355.5462 - val_loss: 652.3256\n",
      "Epoch 5/10\n",
      "4/4 [==============================] - 2s 502ms/step - loss: 343.0471 - val_loss: 170.6497\n",
      "Epoch 6/10\n",
      "4/4 [==============================] - 2s 498ms/step - loss: 60.0618 - val_loss: 66.7352\n",
      "Epoch 7/10\n",
      "4/4 [==============================] - 2s 498ms/step - loss: 243.1988 - val_loss: 244.0784\n",
      "Epoch 8/10\n",
      "4/4 [==============================] - 2s 503ms/step - loss: 308.6676 - val_loss: 298.7712\n",
      "Epoch 9/10\n",
      "4/4 [==============================] - 2s 501ms/step - loss: 131.8712 - val_loss: 268.8958\n",
      "Epoch 10/10\n",
      "4/4 [==============================] - 2s 497ms/step - loss: 160.3155 - val_loss: 86.9926\n",
      "Done ------------------------------------ \n"
     ]
    }
   ],
   "source": [
    "print('Running the CMETNet_CNN_train.py file...')\n",
    "print('Starting with data preparation, then training the CNN model of CMETNet')\n",
    "\n",
    "%run CMETNet_CNN_train.py"
   ]
  },
  {
   "cell_type": "markdown",
   "metadata": {},
   "source": [
    "### **COMB Model Training and Testing**"
   ]
  },
  {
   "cell_type": "markdown",
   "metadata": {},
   "source": [
    "In this step, the COMB models (SVR, RF, GP, XGP) will be trained with a sample data. The trained models then will be used to predict test data.\n"
   ]
  },
  {
   "cell_type": "code",
   "execution_count": 3,
   "metadata": {},
   "outputs": [
    {
     "name": "stdout",
     "output_type": "stream",
     "text": [
      "Running the CMETNet_COMB_train.py file...\n",
      "Starting with data preparation, then training the COMB models of CMETNet\n",
      "Epoch  01 /10\n",
      "Epoch  02 /10\n",
      "Epoch  03 /10\n",
      "Epoch  04 /10\n",
      "Epoch  05 /10\n",
      "Epoch  06 /10\n",
      "Epoch  07 /10\n",
      "Epoch  08 /10\n",
      "Epoch  09 /10\n",
      "Epoch  10 /10\n",
      "Done ------------------------------------ \n"
     ]
    }
   ],
   "source": [
    "print('Running the CMETNet_COMB_train.py file...')\n",
    "print('Starting with data preparation, then training the COMB models of CMETNet')\n",
    "\n",
    "%run CMETNet_COMB_train.py"
   ]
  },
  {
   "cell_type": "markdown",
   "metadata": {},
   "source": [
    "### **Testing the Ensemble Learning method**\n",
    "**Combining CNN and COMB models to show CMETNet prediction results**<br>"
   ]
  },
  {
   "cell_type": "code",
   "execution_count": 4,
   "metadata": {},
   "outputs": [
    {
     "name": "stdout",
     "output_type": "stream",
     "text": [
      "Running the results_ensemble.py file...\n",
      "Final results also will be stored in the results directory\n",
      "\n",
      "       Observed Data                              Prediction                    \n",
      "CME Appearance Time    CME Arrival Time             CMETNet Difference in Hours\n",
      "2014-01-04 21:25:00 2014-01-07 14:25:00 2014-01-07 06:19:00                   8\n",
      "2014-01-07 18:24:00 2014-01-09 19:24:00 2014-01-09 16:46:12                   2\n",
      "2014-01-14 10:24:00 2014-01-18 17:24:00 2014-01-17 05:24:00                  36\n",
      "2014-01-30 16:24:00 2014-02-02 22:24:00 2014-02-02 05:04:48                  17\n",
      "2014-02-04 01:25:00 2014-02-07 15:25:00 2014-02-06 17:38:12                  21\n",
      "2014-02-12 06:12:00 2014-02-15 13:12:00 2014-02-15 05:38:24                   7\n",
      "2014-02-18 01:25:00 2014-02-20 02:25:00 2014-02-20 14:40:00                 -12\n",
      "2014-02-19 16:00:00 2014-02-23 06:00:00 2014-02-22 13:39:36                  16\n",
      "2014-02-25 01:25:00 2014-02-27 20:25:00 2014-02-27 07:48:24                  12\n",
      "2014-03-23 03:48:05 2014-03-26 04:48:05 2014-03-25 17:37:53                  11\n",
      "2014-04-01 17:00:00 2014-04-05 09:00:00 2014-04-04 11:31:12                  21\n",
      "2014-04-02 14:00:00 2014-04-05 22:00:00 2014-04-04 21:01:48                  24\n",
      "2014-04-08 23:12:00 2014-04-11 08:12:00 2014-04-11 15:32:24                  -7\n",
      "2014-04-18 13:25:51 2014-04-21 06:25:51 2014-04-20 23:49:51                   6\n",
      "2014-06-25 12:54:00 2014-06-29 17:54:00 2014-06-28 08:09:00                  33\n",
      "2014-08-15 18:12:00 2014-08-19 06:12:00 2014-08-18 12:53:24                  17\n",
      "2014-09-09 00:16:00 2014-09-12 09:46:00 2014-09-11 15:18:24                  18\n",
      "2014-09-10 18:24:00 2014-09-12 15:24:00 2014-09-13 04:40:48                 -13\n",
      "2014-11-01 05:12:00 2014-11-03 22:12:00 2014-11-03 06:30:00                  15\n",
      "2014-11-07 18:08:00 2014-11-10 01:08:00 2014-11-10 05:47:36                  -4\n",
      "2014-12-17 05:00:00 2014-12-21 11:30:00 2014-12-20 00:13:48                  35 \n",
      "\n",
      "CMENet PPMCC:\t 0.63\n",
      "CMENet MAE:\t 16.41\n",
      "Done ------------------------------------ \n"
     ]
    }
   ],
   "source": [
    "print('Running the results_ensemble.py file...')\n",
    "print('Final results also will be stored in the results directory')\n",
    "%run results_ensemble.py"
   ]
  },
  {
   "cell_type": "markdown",
   "metadata": {},
   "source": [
    "# **Conclusions**\n",
    "In this work we presented an ensemble framework (CMETNet) for predicting the arrival time of CME\n",
    "events. Each event contains 5 CME features (angular width, main position angle, linear speed, 2nd-order\n",
    "speed at final height, and mass), 7 solar wind parameters (Bx, Bz, alpha to proton ratio, flow longitude,\n",
    "plasma pressure, flow speed, and proton temperature) and 0-17 CME images. The CMETNet framework is\n",
    "composed of five machine learning models including support vector regression (SVR), random forest (RF),\n",
    "Gaussian process (GP), XGBoost (XGB), and a convolutional neural network (CNN). Our experimental\n",
    "results demonstrated that using all the CME features, solar wind parameters and\n",
    "CME images together yields better performance than using part of them.\n",
    "\n",
    "\n",
    "# **CMETNet paper**\n",
    "\n",
    "Predicting CME arrival time through data integration and ensemble learning<br>\n",
    "    Khalid A. Alobaid, Yasser Abduallah, Jason T. L. Wang, Haimin Wang, Haodi Jiang, Yan Xu, Vasyl Yurchyshyn, Hongyang Zhang, Huseyin Cavus and Ju Jing<br>\n",
    "        <a target='new' href='https://www.frontiersin.org/articles/10.3389/fspas.2022.1013345/full'>https://www.frontiersin.org/articles/10.3389/fspas.2022.1013345/full</a>\n",
    " \n"
   ]
  }
 ],
 "metadata": {
  "kernelspec": {
   "display_name": "Python 3 (ipykernel)",
   "language": "python",
   "name": "python3"
  },
  "language_info": {
   "codemirror_mode": {
    "name": "ipython",
    "version": 3
   },
   "file_extension": ".py",
   "mimetype": "text/x-python",
   "name": "python",
   "nbconvert_exporter": "python",
   "pygments_lexer": "ipython3",
   "version": "3.9.13"
  },
  "toc": {
   "base_numbering": 1,
   "nav_menu": {},
   "number_sections": true,
   "sideBar": true,
   "skip_h1_title": false,
   "title_cell": "Table of Contents",
   "title_sidebar": "Contents",
   "toc_cell": true,
   "toc_position": {
    "height": "calc(100% - 180px)",
    "left": "10px",
    "top": "150px",
    "width": "248.182px"
   },
   "toc_section_display": true,
   "toc_window_display": true
  }
 },
 "nbformat": 4,
 "nbformat_minor": 4
}
